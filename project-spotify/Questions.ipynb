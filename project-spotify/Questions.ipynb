{
 "cells": [
  {
   "cell_type": "markdown",
   "id": "efcc2162",
   "metadata": {},
   "source": [
    "# 🐍 Project: Spotify Dataset"
   ]
  },
  {
   "cell_type": "markdown",
   "id": "c41d109d",
   "metadata": {},
   "source": [
    "# Programming Project Instructions\n",
    "\n",
    "- In this project, you will simulate a real-world data analysis scenario by working in a team to explore a meaningful dataset and present your findings as if delivering insights to a business stakeholder.\n",
    "\n",
    "- Project Overview: Your task is to select an interesting dataset from Kaggle\n",
    "\n",
    "- Links to an external site. and use Python libraries to analyze it. Kaggle is a widely used platform offering extensive datasets across numerous fields and industries. Given your background in business studies, choose a dataset that addresses a real-world business problem or insightful research questions. Identify your chosen dataset, the specific business problem(s), or the question(s) you intend to answer.\n",
    "\n",
    "- Deliverables: Your submission must include:\n",
    "\n",
    "    - A detailed analysis and answers to your selected question(s) in a Jupyter Notebook (.ipynb), using Markdown cells for explanations.\n",
    "\n",
    "    - Export your notebook analysis to an HTML file.\n",
    "\n",
    "    - Include your chosen dataset within a data folder.\n",
    "\n",
    "    - A README.md file clearly describing your project, chosen questions, findings, and how to run your notebook.\n",
    "\n",
    "    - A requirements.txt file listing all Python libraries you used (see the prerecorded class from Thursday, April 24, for guidance).\n",
    "\n",
    "- GitHub Submission:\n",
    "\n",
    "    - Create a public GitHub repository to store all your project files.\n",
    "\n",
    "    - Include your group partner as a collaborator on GitHub.\n",
    "\n",
    "    - Use Terminal or Command Line to push your files, as demonstrated during our ICE 10 session.\n",
    "\n",
    "   -  Submit only your GitHub repository link here in the end.\n",
    "\n",
    "- Collaboration and Submission: You have been placed into groups of two students. Check the People tab on Canvas to identify your group partner. Collaborate closely—only one group member needs to submit the final assignment on Canvas.\n",
    "\n",
    "- Using AI Assistance: You are welcome to use GitHub Copilot:\n",
    "\n",
    "    - Install it directly in VS Code by navigating to Extensions (Ctrl+Shift+X), searching for \"GitHub Copilot\", installing it, and logging in with your GitHub education account.\n",
    "\n",
    "    - Activate Copilot in your editor by pressing Ctrl + I. Copilot can assist you in coding, debugging, and offering useful suggestions—use it to enhance your project effectively!\n",
    "\n",
    "- Guidance and Expectations:\n",
    "\n",
    "    - Choose a dataset that intrigues you—originality, creativity, and relevance are key to a successful project.\n",
    "\n",
    "    - Clearly state your business problem/questions. Example: if you choose a dataset about cybersecurity attacks, your questions could be: \"What industries were most targeted?\",  \"How many attacks were there per year, and which company suffered the most?\", \"How did the frequency of attacks change over time?\", \"What insights can businesses gain to better protect themselves?\"\n",
    "\n",
    "    - Your solutions and findings must be data-driven and clearly presented.\n",
    "\n",
    "    - \"Sell\" your solution by demonstrating clear, impactful insights supported by thorough analysis. Since you have access to AI now, use it to your advantage!\n",
    "\n",
    "- Evaluation: Your project will be evaluated based on:\n",
    "\n",
    "    - Clarity and depth of analysis\n",
    "\n",
    "    - Creativity and originality\n",
    "\n",
    "    - Relevance and impact of your chosen questions\n",
    "\n",
    "    - Professional presentation/report and complete documentation on GitHub\n",
    "\n",
    "- Have fun exploring and good luck!"
   ]
  },
  {
   "cell_type": "markdown",
   "id": "e6a34dd0",
   "metadata": {},
   "source": [
    "## Question 1:  \n",
    "- How many songs each artist have? "
   ]
  },
  {
   "cell_type": "code",
   "execution_count": null,
   "id": "afa1ba63",
   "metadata": {},
   "outputs": [],
   "source": []
  },
  {
   "cell_type": "markdown",
   "id": "8ccb9158",
   "metadata": {},
   "source": [
    "## Question 2: \n",
    "- What are the complete details of the song you are looking for? (Artist,Genre,Emotion)"
   ]
  },
  {
   "cell_type": "code",
   "execution_count": null,
   "id": "2bac1440",
   "metadata": {},
   "outputs": [],
   "source": []
  },
  {
   "cell_type": "markdown",
   "id": "c4f07a0a",
   "metadata": {},
   "source": [
    "## Question 3: \n",
    "- What is the most popular genre in the dataset?"
   ]
  },
  {
   "cell_type": "code",
   "execution_count": null,
   "id": "0ffba2c2",
   "metadata": {},
   "outputs": [],
   "source": []
  },
  {
   "cell_type": "markdown",
   "id": "cf3c4eb5",
   "metadata": {},
   "source": [
    "## Question 4: \n",
    "- Who is consistently the loudest artist in the dataset?"
   ]
  },
  {
   "cell_type": "code",
   "execution_count": null,
   "id": "b11529b6",
   "metadata": {},
   "outputs": [],
   "source": []
  },
  {
   "cell_type": "markdown",
   "id": "a244c497",
   "metadata": {},
   "source": [
    "## Question 5: \n",
    "- What is the top 10 of the artists who are most consistently releasing explicit music?"
   ]
  },
  {
   "cell_type": "code",
   "execution_count": null,
   "id": "7c91395d",
   "metadata": {},
   "outputs": [],
   "source": []
  }
 ],
 "metadata": {
  "language_info": {
   "name": "python"
  }
 },
 "nbformat": 4,
 "nbformat_minor": 5
}
